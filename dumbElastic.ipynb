{
 "cells": [
  {
   "cell_type": "code",
   "execution_count": 1,
   "metadata": {
    "collapsed": false
   },
   "outputs": [
    {
     "name": "stdout",
     "output_type": "stream",
     "text": [
      "Requirement already satisfied: nltk in c:\\users\\rafael\\anaconda3\\lib\\site-packages (3.2.1)\n"
     ]
    },
    {
     "name": "stderr",
     "output_type": "stream",
     "text": [
      "You are using pip version 10.0.1, however version 18.0 is available.\n",
      "You should consider upgrading via the 'python -m pip install --upgrade pip' command.\n"
     ]
    }
   ],
   "source": [
    "!pip install nltk"
   ]
  },
  {
   "cell_type": "code",
   "execution_count": 4,
   "metadata": {
    "collapsed": false
   },
   "outputs": [
    {
     "name": "stdout",
     "output_type": "stream",
     "text": [
      "Collecting unidecode\n",
      "  Downloading https://files.pythonhosted.org/packages/59/ef/67085e30e8bbcdd76e2f0a4ad8151c13a2c5bce77c85f8cad6e1f16fb141/Unidecode-1.0.22-py2.py3-none-any.whl (235kB)\n",
      "Installing collected packages: unidecode\n",
      "Successfully installed unidecode-1.0.22\n"
     ]
    },
    {
     "name": "stderr",
     "output_type": "stream",
     "text": [
      "You are using pip version 10.0.1, however version 18.0 is available.\n",
      "You should consider upgrading via the 'python -m pip install --upgrade pip' command.\n"
     ]
    }
   ],
   "source": [
    "!pip install unidecode"
   ]
  },
  {
   "cell_type": "code",
   "execution_count": 6,
   "metadata": {
    "collapsed": false,
    "scrolled": true
   },
   "outputs": [],
   "source": [
    "import re, os\n",
    "#from collections import defaultdict, Counter\n",
    "import unidecode\n",
    "import nltk"
   ]
  },
  {
   "cell_type": "code",
   "execution_count": 7,
   "metadata": {
    "collapsed": true
   },
   "outputs": [],
   "source": [
    "def normaliza(termo):\n",
    "    return stemmer.stem(unidecode.unidecode(termo.lower()).replace(\",\",\"\").replace('.',''))"
   ]
  },
  {
   "cell_type": "code",
   "execution_count": 8,
   "metadata": {
    "collapsed": true
   },
   "outputs": [],
   "source": [
    "def insereDados(arquivo): \n",
    "    f = open(arquivo,'r', encoding=\"utf8\") \n",
    "    dados[arquivo] = f.read()\n",
    "    #print(dados)"
   ]
  },
  {
   "cell_type": "code",
   "execution_count": 42,
   "metadata": {
    "collapsed": false
   },
   "outputs": [],
   "source": [
    "indice={str : list()}\n",
    "def indexa():\n",
    "    for key in dados:\n",
    "        for palavra in dados[key].split():\n",
    "            palavra = normaliza(palavra)\n",
    "            if (not (palavra in stops)):\n",
    "                if (palavra in indice.keys()):\n",
    "                    indice[palavra].append(key) \n",
    "                else:\n",
    "                    indice[palavra] = [key]\n",
    "    for i in indice:\n",
    "        indice[i].sort()\n",
    "\n",
    "indexa()"
   ]
  },
  {
   "cell_type": "code",
   "execution_count": 43,
   "metadata": {
    "collapsed": false
   },
   "outputs": [
    {
     "data": {
      "text/plain": [
       "{'saud': ['evaluation-news-txt/evaluation-news-txt\\\\news-02.txt',\n",
       "  'evaluation-news-txt/evaluation-news-txt\\\\news-05.txt',\n",
       "  'evaluation-news-txt/evaluation-news-txt\\\\news-06.txt',\n",
       "  'evaluation-news-txt/evaluation-news-txt\\\\news-08.txt',\n",
       "  'evaluation-news-txt/evaluation-news-txt\\\\news-10.txt',\n",
       "  'evaluation-news-txt/evaluation-news-txt\\\\news-13.txt',\n",
       "  'evaluation-news-txt/evaluation-news-txt\\\\news-14.txt'],\n",
       " 'algum': ['evaluation-news-txt/evaluation-news-txt\\\\news-15.txt'],\n",
       " 'par': ['evaluation-news-txt/evaluation-news-txt\\\\news-09.txt',\n",
       "  'evaluation-news-txt/evaluation-news-txt\\\\news-12.txt',\n",
       "  'evaluation-news-txt/evaluation-news-txt\\\\news-13.txt',\n",
       "  'evaluation-news-txt/evaluation-news-txt\\\\news-14.txt'],\n",
       " 'grav': ['evaluation-news-txt/evaluation-news-txt\\\\news-15.txt'],\n",
       " 'min': ['evaluation-news-txt/evaluation-news-txt\\\\news-05.txt'],\n",
       " 'vere': ['evaluation-news-txt/evaluation-news-txt\\\\news-12.txt'],\n",
       " 'dia': ['evaluation-news-txt/evaluation-news-txt\\\\news-03.txt',\n",
       "  'evaluation-news-txt/evaluation-news-txt\\\\news-10.txt',\n",
       "  'evaluation-news-txt/evaluation-news-txt\\\\news-14.txt'],\n",
       " 'inundaco': ['evaluation-news-txt/evaluation-news-txt\\\\news-05.txt'],\n",
       " 'ocorrenc': ['evaluation-news-txt/evaluation-news-txt\\\\news-12.txt'],\n",
       " 'diretor-ger': ['evaluation-news-txt/evaluation-news-txt\\\\news-11.txt'],\n",
       " 'cpi': ['evaluation-news-txt/evaluation-news-txt\\\\news-12.txt'],\n",
       " 'menos': ['evaluation-news-txt/evaluation-news-txt\\\\news-12.txt'],\n",
       " 'cont': ['evaluation-news-txt/evaluation-news-txt\\\\news-04.txt',\n",
       "  'evaluation-news-txt/evaluation-news-txt\\\\news-05.txt'],\n",
       " 'mao': ['evaluation-news-txt/evaluation-news-txt\\\\news-13.txt'],\n",
       " 'ating': ['evaluation-news-txt/evaluation-news-txt\\\\news-01.txt',\n",
       "  'evaluation-news-txt/evaluation-news-txt\\\\news-08.txt'],\n",
       " 'alex': ['evaluation-news-txt/evaluation-news-txt\\\\news-12.txt'],\n",
       " 'estad': ['evaluation-news-txt/evaluation-news-txt\\\\news-08.txt'],\n",
       " 'exploso': ['evaluation-news-txt/evaluation-news-txt\\\\news-05.txt'],\n",
       " 'vac': ['evaluation-news-txt/evaluation-news-txt\\\\news-10.txt'],\n",
       " 'classific': ['evaluation-news-txt/evaluation-news-txt\\\\news-06.txt'],\n",
       " 'a/south': ['evaluation-news-txt/evaluation-news-txt\\\\news-15.txt'],\n",
       " 'terca-f': ['evaluation-news-txt/evaluation-news-txt\\\\news-07.txt'],\n",
       " 'abril': ['evaluation-news-txt/evaluation-news-txt\\\\news-03.txt'],\n",
       " 'vargea': ['evaluation-news-txt/evaluation-news-txt\\\\news-02.txt',\n",
       "  'evaluation-news-txt/evaluation-news-txt\\\\news-02.txt'],\n",
       " 'prev': ['evaluation-news-txt/evaluation-news-txt\\\\news-02.txt'],\n",
       " 'comprov': ['evaluation-news-txt/evaluation-news-txt\\\\news-10.txt'],\n",
       " 'centr': ['evaluation-news-txt/evaluation-news-txt\\\\news-13.txt'],\n",
       " 'a/c': ['evaluation-news-txt/evaluation-news-txt\\\\news-15.txt'],\n",
       " 'agud': ['evaluation-news-txt/evaluation-news-txt\\\\news-15.txt'],\n",
       " 'ileg': ['evaluation-news-txt/evaluation-news-txt\\\\news-12.txt'],\n",
       " 'grip': ['evaluation-news-txt/evaluation-news-txt\\\\news-01.txt',\n",
       "  'evaluation-news-txt/evaluation-news-txt\\\\news-02.txt',\n",
       "  'evaluation-news-txt/evaluation-news-txt\\\\news-03.txt',\n",
       "  'evaluation-news-txt/evaluation-news-txt\\\\news-04.txt',\n",
       "  'evaluation-news-txt/evaluation-news-txt\\\\news-04.txt',\n",
       "  'evaluation-news-txt/evaluation-news-txt\\\\news-05.txt',\n",
       "  'evaluation-news-txt/evaluation-news-txt\\\\news-08.txt',\n",
       "  'evaluation-news-txt/evaluation-news-txt\\\\news-10.txt',\n",
       "  'evaluation-news-txt/evaluation-news-txt\\\\news-13.txt',\n",
       "  'evaluation-news-txt/evaluation-news-txt\\\\news-14.txt',\n",
       "  'evaluation-news-txt/evaluation-news-txt\\\\news-15.txt'],\n",
       " 'defend': ['evaluation-news-txt/evaluation-news-txt\\\\news-05.txt'],\n",
       " 'dimech': ['evaluation-news-txt/evaluation-news-txt\\\\news-11.txt'],\n",
       " 'encontr': ['evaluation-news-txt/evaluation-news-txt\\\\news-01.txt'],\n",
       " 'boletim': ['evaluation-news-txt/evaluation-news-txt\\\\news-12.txt'],\n",
       " 'univers': ['evaluation-news-txt/evaluation-news-txt\\\\news-09.txt'],\n",
       " 'austral': ['evaluation-news-txt/evaluation-news-txt\\\\news-15.txt'],\n",
       " 'mil': ['evaluation-news-txt/evaluation-news-txt\\\\news-05.txt',\n",
       "  'evaluation-news-txt/evaluation-news-txt\\\\news-15.txt'],\n",
       " 'paul': ['evaluation-news-txt/evaluation-news-txt\\\\news-09.txt'],\n",
       " 'secret': ['evaluation-news-txt/evaluation-news-txt\\\\news-06.txt',\n",
       "  'evaluation-news-txt/evaluation-news-txt\\\\news-08.txt',\n",
       "  'evaluation-news-txt/evaluation-news-txt\\\\news-14.txt'],\n",
       " 'californ': ['evaluation-news-txt/evaluation-news-txt\\\\news-15.txt'],\n",
       " 'ministeri': ['evaluation-news-txt/evaluation-news-txt\\\\news-02.txt',\n",
       "  'evaluation-news-txt/evaluation-news-txt\\\\news-05.txt'],\n",
       " 'cham': ['evaluation-news-txt/evaluation-news-txt\\\\news-04.txt',\n",
       "  'evaluation-news-txt/evaluation-news-txt\\\\news-15.txt'],\n",
       " 'marataiz': ['evaluation-news-txt/evaluation-news-txt\\\\news-01.txt'],\n",
       " 'cancer:': ['evaluation-news-txt/evaluation-news-txt\\\\news-09.txt'],\n",
       " 'inici': ['evaluation-news-txt/evaluation-news-txt\\\\news-03.txt'],\n",
       " 'tom': ['evaluation-news-txt/evaluation-news-txt\\\\news-13.txt',\n",
       "  'evaluation-news-txt/evaluation-news-txt\\\\news-14.txt'],\n",
       " 'quadr': ['evaluation-news-txt/evaluation-news-txt\\\\news-11.txt'],\n",
       " '(09)': ['evaluation-news-txt/evaluation-news-txt\\\\news-01.txt'],\n",
       " 'georg': ['evaluation-news-txt/evaluation-news-txt\\\\news-11.txt'],\n",
       " 'by': ['evaluation-news-txt/evaluation-news-txt\\\\news-05.txt'],\n",
       " 'semelh': ['evaluation-news-txt/evaluation-news-txt\\\\news-11.txt'],\n",
       " 'paci': ['evaluation-news-txt/evaluation-news-txt\\\\news-06.txt'],\n",
       " 'cient': ['evaluation-news-txt/evaluation-news-txt\\\\news-09.txt'],\n",
       " 'registr': ['evaluation-news-txt/evaluation-news-txt\\\\news-12.txt'],\n",
       " '944%': ['evaluation-news-txt/evaluation-news-txt\\\\news-08.txt'],\n",
       " 'espirit': ['evaluation-news-txt/evaluation-news-txt\\\\news-01.txt'],\n",
       " 'agrav': ['evaluation-news-txt/evaluation-news-txt\\\\news-11.txt'],\n",
       " 'potenc': ['evaluation-news-txt/evaluation-news-txt\\\\news-09.txt'],\n",
       " 'determin': ['evaluation-news-txt/evaluation-news-txt\\\\news-06.txt'],\n",
       " 'segund': ['evaluation-news-txt/evaluation-news-txt\\\\news-14.txt'],\n",
       " 'b': ['evaluation-news-txt/evaluation-news-txt\\\\news-11.txt',\n",
       "  'evaluation-news-txt/evaluation-news-txt\\\\news-15.txt'],\n",
       " 'foss': ['evaluation-news-txt/evaluation-news-txt\\\\news-09.txt'],\n",
       " 'nacion': ['evaluation-news-txt/evaluation-news-txt\\\\news-10.txt',\n",
       "  'evaluation-news-txt/evaluation-news-txt\\\\news-14.txt'],\n",
       " 'retom': ['evaluation-news-txt/evaluation-news-txt\\\\news-07.txt'],\n",
       " 'caus': ['evaluation-news-txt/evaluation-news-txt\\\\news-05.txt',\n",
       "  'evaluation-news-txt/evaluation-news-txt\\\\news-15.txt'],\n",
       " 'priorizaca': ['evaluation-news-txt/evaluation-news-txt\\\\news-06.txt'],\n",
       " 'campanh': ['evaluation-news-txt/evaluation-news-txt\\\\news-02.txt',\n",
       "  'evaluation-news-txt/evaluation-news-txt\\\\news-03.txt',\n",
       "  'evaluation-news-txt/evaluation-news-txt\\\\news-10.txt',\n",
       "  'evaluation-news-txt/evaluation-news-txt\\\\news-14.txt'],\n",
       " '32': ['evaluation-news-txt/evaluation-news-txt\\\\news-08.txt',\n",
       "  'evaluation-news-txt/evaluation-news-txt\\\\news-08.txt'],\n",
       " 'maus-trat': ['evaluation-news-txt/evaluation-news-txt\\\\news-05.txt'],\n",
       " 'control': ['evaluation-news-txt/evaluation-news-txt\\\\news-11.txt'],\n",
       " 'atend': ['evaluation-news-txt/evaluation-news-txt\\\\news-06.txt'],\n",
       " 'sintom': ['evaluation-news-txt/evaluation-news-txt\\\\news-04.txt'],\n",
       " 'jorn': ['evaluation-news-txt/evaluation-news-txt\\\\news-12.txt'],\n",
       " 'met': ['evaluation-news-txt/evaluation-news-txt\\\\news-02.txt',\n",
       "  'evaluation-news-txt/evaluation-news-txt\\\\news-05.txt'],\n",
       " 'comerci': ['evaluation-news-txt/evaluation-news-txt\\\\news-12.txt'],\n",
       " 'canc': ['evaluation-news-txt/evaluation-news-txt\\\\news-09.txt'],\n",
       " 'gripe\"': ['evaluation-news-txt/evaluation-news-txt\\\\news-11.txt'],\n",
       " 'hor': ['evaluation-news-txt/evaluation-news-txt\\\\news-06.txt'],\n",
       " 'suspeit': ['evaluation-news-txt/evaluation-news-txt\\\\news-06.txt'],\n",
       " 'inform': ['evaluation-news-txt/evaluation-news-txt\\\\news-01.txt',\n",
       "  'evaluation-news-txt/evaluation-news-txt\\\\news-08.txt'],\n",
       " 'conf': ['evaluation-news-txt/evaluation-news-txt\\\\news-01.txt'],\n",
       " '100%': ['evaluation-news-txt/evaluation-news-txt\\\\news-01.txt',\n",
       "  'evaluation-news-txt/evaluation-news-txt\\\\news-10.txt'],\n",
       " 'tempor': ['evaluation-news-txt/evaluation-news-txt\\\\news-05.txt'],\n",
       " str: [],\n",
       " 'equip': ['evaluation-news-txt/evaluation-news-txt\\\\news-12.txt'],\n",
       " 'alcanc': ['evaluation-news-txt/evaluation-news-txt\\\\news-02.txt'],\n",
       " '(h3n2)': ['evaluation-news-txt/evaluation-news-txt\\\\news-15.txt'],\n",
       " 'cidada': ['evaluation-news-txt/evaluation-news-txt\\\\news-12.txt'],\n",
       " 'alv': ['evaluation-news-txt/evaluation-news-txt\\\\news-14.txt'],\n",
       " '\"e': ['evaluation-news-txt/evaluation-news-txt\\\\news-12.txt'],\n",
       " 'pass': ['evaluation-news-txt/evaluation-news-txt\\\\news-06.txt',\n",
       "  'evaluation-news-txt/evaluation-news-txt\\\\news-09.txt'],\n",
       " 'atac': ['evaluation-news-txt/evaluation-news-txt\\\\news-09.txt'],\n",
       " 'mor': ['evaluation-news-txt/evaluation-news-txt\\\\news-05.txt'],\n",
       " 'vacin': ['evaluation-news-txt/evaluation-news-txt\\\\news-03.txt',\n",
       "  'evaluation-news-txt/evaluation-news-txt\\\\news-08.txt',\n",
       "  'evaluation-news-txt/evaluation-news-txt\\\\news-08.txt',\n",
       "  'evaluation-news-txt/evaluation-news-txt\\\\news-09.txt',\n",
       "  'evaluation-news-txt/evaluation-news-txt\\\\news-09.txt',\n",
       "  'evaluation-news-txt/evaluation-news-txt\\\\news-10.txt',\n",
       "  'evaluation-news-txt/evaluation-news-txt\\\\news-13.txt',\n",
       "  'evaluation-news-txt/evaluation-news-txt\\\\news-15.txt'],\n",
       " 'obit': ['evaluation-news-txt/evaluation-news-txt\\\\news-04.txt'],\n",
       " 'der': ['evaluation-news-txt/evaluation-news-txt\\\\news-09.txt'],\n",
       " 'estej': ['evaluation-news-txt/evaluation-news-txt\\\\news-14.txt'],\n",
       " 'influenz': ['evaluation-news-txt/evaluation-news-txt\\\\news-08.txt',\n",
       "  'evaluation-news-txt/evaluation-news-txt\\\\news-10.txt',\n",
       "  'evaluation-news-txt/evaluation-news-txt\\\\news-11.txt',\n",
       "  'evaluation-news-txt/evaluation-news-txt\\\\news-14.txt',\n",
       "  'evaluation-news-txt/evaluation-news-txt\\\\news-15.txt'],\n",
       " 'ano': ['evaluation-news-txt/evaluation-news-txt\\\\news-01.txt',\n",
       "  'evaluation-news-txt/evaluation-news-txt\\\\news-14.txt',\n",
       "  'evaluation-news-txt/evaluation-news-txt\\\\news-15.txt'],\n",
       " 'assust': ['evaluation-news-txt/evaluation-news-txt\\\\news-04.txt'],\n",
       " 'mei': ['evaluation-news-txt/evaluation-news-txt\\\\news-06.txt'],\n",
       " 'prim': ['evaluation-news-txt/evaluation-news-txt\\\\news-01.txt'],\n",
       " 'voc': ['evaluation-news-txt/evaluation-news-txt\\\\news-01.txt',\n",
       "  'evaluation-news-txt/evaluation-news-txt\\\\news-01.txt'],\n",
       " 'agent': ['evaluation-news-txt/evaluation-news-txt\\\\news-15.txt'],\n",
       " 'cas': ['evaluation-news-txt/evaluation-news-txt\\\\news-04.txt',\n",
       "  'evaluation-news-txt/evaluation-news-txt\\\\news-05.txt',\n",
       "  'evaluation-news-txt/evaluation-news-txt\\\\news-06.txt',\n",
       "  'evaluation-news-txt/evaluation-news-txt\\\\news-11.txt',\n",
       "  'evaluation-news-txt/evaluation-news-txt\\\\news-15.txt'],\n",
       " 'camp': ['evaluation-news-txt/evaluation-news-txt\\\\news-07.txt'],\n",
       " '210': ['evaluation-news-txt/evaluation-news-txt\\\\news-15.txt'],\n",
       " 'mpe': ['evaluation-news-txt/evaluation-news-txt\\\\news-06.txt'],\n",
       " 'avist': ['evaluation-news-txt/evaluation-news-txt\\\\news-12.txt'],\n",
       " 'post': ['evaluation-news-txt/evaluation-news-txt\\\\news-10.txt',\n",
       "  'evaluation-news-txt/evaluation-news-txt\\\\news-13.txt'],\n",
       " 'sej': ['evaluation-news-txt/evaluation-news-txt\\\\news-06.txt'],\n",
       " 'tud': ['evaluation-news-txt/evaluation-news-txt\\\\news-01.txt'],\n",
       " 'sup': ['evaluation-news-txt/evaluation-news-txt\\\\news-05.txt'],\n",
       " '30': ['evaluation-news-txt/evaluation-news-txt\\\\news-10.txt'],\n",
       " 'xanx': ['evaluation-news-txt/evaluation-news-txt\\\\news-03.txt',\n",
       "  'evaluation-news-txt/evaluation-news-txt\\\\news-03.txt',\n",
       "  'evaluation-news-txt/evaluation-news-txt\\\\news-03.txt',\n",
       "  'evaluation-news-txt/evaluation-news-txt\\\\news-10.txt'],\n",
       " 'port': ['evaluation-news-txt/evaluation-news-txt\\\\news-01.txt',\n",
       "  'evaluation-news-txt/evaluation-news-txt\\\\news-12.txt'],\n",
       " 'expuls': ['evaluation-news-txt/evaluation-news-txt\\\\news-05.txt'],\n",
       " 'dua': ['evaluation-news-txt/evaluation-news-txt\\\\news-12.txt'],\n",
       " 'tip': ['evaluation-news-txt/evaluation-news-txt\\\\news-04.txt'],\n",
       " 'cumpr': ['evaluation-news-txt/evaluation-news-txt\\\\news-06.txt'],\n",
       " 'tumor': ['evaluation-news-txt/evaluation-news-txt\\\\news-09.txt'],\n",
       " 'realiz': ['evaluation-news-txt/evaluation-news-txt\\\\news-10.txt'],\n",
       " 'mes': ['evaluation-news-txt/evaluation-news-txt\\\\news-14.txt',\n",
       "  'evaluation-news-txt/evaluation-news-txt\\\\news-14.txt'],\n",
       " 'animal': ['evaluation-news-txt/evaluation-news-txt\\\\news-05.txt'],\n",
       " 'contr': ['evaluation-news-txt/evaluation-news-txt\\\\news-01.txt',\n",
       "  'evaluation-news-txt/evaluation-news-txt\\\\news-02.txt',\n",
       "  'evaluation-news-txt/evaluation-news-txt\\\\news-03.txt',\n",
       "  'evaluation-news-txt/evaluation-news-txt\\\\news-05.txt',\n",
       "  'evaluation-news-txt/evaluation-news-txt\\\\news-07.txt',\n",
       "  'evaluation-news-txt/evaluation-news-txt\\\\news-08.txt',\n",
       "  'evaluation-news-txt/evaluation-news-txt\\\\news-08.txt',\n",
       "  'evaluation-news-txt/evaluation-news-txt\\\\news-09.txt',\n",
       "  'evaluation-news-txt/evaluation-news-txt\\\\news-10.txt',\n",
       "  'evaluation-news-txt/evaluation-news-txt\\\\news-13.txt',\n",
       "  'evaluation-news-txt/evaluation-news-txt\\\\news-14.txt',\n",
       "  'evaluation-news-txt/evaluation-news-txt\\\\news-14.txt',\n",
       "  'evaluation-news-txt/evaluation-news-txt\\\\news-15.txt'],\n",
       " 'receb': ['evaluation-news-txt/evaluation-news-txt\\\\news-12.txt',\n",
       "  'evaluation-news-txt/evaluation-news-txt\\\\news-15.txt'],\n",
       " 'dest': ['evaluation-news-txt/evaluation-news-txt\\\\news-01.txt',\n",
       "  'evaluation-news-txt/evaluation-news-txt\\\\news-01.txt'],\n",
       " 'entidad': ['evaluation-news-txt/evaluation-news-txt\\\\news-05.txt'],\n",
       " 'difer': ['evaluation-news-txt/evaluation-news-txt\\\\news-04.txt'],\n",
       " 'gabbard': ['evaluation-news-txt/evaluation-news-txt\\\\news-08.txt'],\n",
       " 'previn': ['evaluation-news-txt/evaluation-news-txt\\\\news-15.txt'],\n",
       " 'about': ['evaluation-news-txt/evaluation-news-txt\\\\news-01.txt'],\n",
       " 'cobert': ['evaluation-news-txt/evaluation-news-txt\\\\news-01.txt',\n",
       "  'evaluation-news-txt/evaluation-news-txt\\\\news-08.txt'],\n",
       " '4': ['evaluation-news-txt/evaluation-news-txt\\\\news-14.txt'],\n",
       " 'mantenh': ['evaluation-news-txt/evaluation-news-txt\\\\news-02.txt'],\n",
       " '(pt)': ['evaluation-news-txt/evaluation-news-txt\\\\news-12.txt'],\n",
       " 'acus': ['evaluation-news-txt/evaluation-news-txt\\\\news-05.txt'],\n",
       " 'respir': ['evaluation-news-txt/evaluation-news-txt\\\\news-15.txt'],\n",
       " 'perguntou:': ['evaluation-news-txt/evaluation-news-txt\\\\news-12.txt'],\n",
       " 'prote': ['evaluation-news-txt/evaluation-news-txt\\\\news-05.txt'],\n",
       " 'ocasia': ['evaluation-news-txt/evaluation-news-txt\\\\news-12.txt'],\n",
       " 'nao': ['evaluation-news-txt/evaluation-news-txt\\\\news-04.txt'],\n",
       " 'provoc': ['evaluation-news-txt/evaluation-news-txt\\\\news-04.txt'],\n",
       " 'pesso': ['evaluation-news-txt/evaluation-news-txt\\\\news-05.txt',\n",
       "  'evaluation-news-txt/evaluation-news-txt\\\\news-10.txt'],\n",
       " 'grup': ['evaluation-news-txt/evaluation-news-txt\\\\news-06.txt',\n",
       "  'evaluation-news-txt/evaluation-news-txt\\\\news-08.txt'],\n",
       " 'crianc': ['evaluation-news-txt/evaluation-news-txt\\\\news-14.txt'],\n",
       " 'wwwfolhademocraticacombr': ['evaluation-news-txt/evaluation-news-txt\\\\news-05.txt'],\n",
       " 'tod': ['evaluation-news-txt/evaluation-news-txt\\\\news-01.txt',\n",
       "  'evaluation-news-txt/evaluation-news-txt\\\\news-08.txt'],\n",
       " 'quinta-f': ['evaluation-news-txt/evaluation-news-txt\\\\news-01.txt'],\n",
       " 'sant': ['evaluation-news-txt/evaluation-news-txt\\\\news-01.txt'],\n",
       " 'pel': ['evaluation-news-txt/evaluation-news-txt\\\\news-04.txt',\n",
       "  'evaluation-news-txt/evaluation-news-txt\\\\news-12.txt'],\n",
       " 'risc': ['evaluation-news-txt/evaluation-news-txt\\\\news-06.txt',\n",
       "  'evaluation-news-txt/evaluation-news-txt\\\\news-08.txt'],\n",
       " 'dev': ['evaluation-news-txt/evaluation-news-txt\\\\news-07.txt',\n",
       "  'evaluation-news-txt/evaluation-news-txt\\\\news-10.txt'],\n",
       " 'tant': ['evaluation-news-txt/evaluation-news-txt\\\\news-12.txt'],\n",
       " 'cuj': ['evaluation-news-txt/evaluation-news-txt\\\\news-11.txt'],\n",
       " 'litor': ['evaluation-news-txt/evaluation-news-txt\\\\news-01.txt'],\n",
       " 'acr': ['evaluation-news-txt/evaluation-news-txt\\\\news-15.txt'],\n",
       " 'notic': ['evaluation-news-txt/evaluation-news-txt\\\\news-01.txt'],\n",
       " 'aqu': ['evaluation-news-txt/evaluation-news-txt\\\\news-01.txt'],\n",
       " 'cheg': ['evaluation-news-txt/evaluation-news-txt\\\\news-12.txt',\n",
       "  'evaluation-news-txt/evaluation-news-txt\\\\news-13.txt'],\n",
       " 'tre': ['evaluation-news-txt/evaluation-news-txt\\\\news-12.txt'],\n",
       " 'litorane': ['evaluation-news-txt/evaluation-news-txt\\\\news-01.txt'],\n",
       " 'mai': ['evaluation-news-txt/evaluation-news-txt\\\\news-10.txt'],\n",
       " 'joa': ['evaluation-news-txt/evaluation-news-txt\\\\news-08.txt'],\n",
       " 'emis': ['evaluation-news-txt/evaluation-news-txt\\\\news-12.txt'],\n",
       " 'ate': ['evaluation-news-txt/evaluation-news-txt\\\\news-01.txt',\n",
       "  'evaluation-news-txt/evaluation-news-txt\\\\news-06.txt',\n",
       "  'evaluation-news-txt/evaluation-news-txt\\\\news-10.txt',\n",
       "  'evaluation-news-txt/evaluation-news-txt\\\\news-10.txt'],\n",
       " 'gent': ['evaluation-news-txt/evaluation-news-txt\\\\news-12.txt'],\n",
       " 'tri': ['evaluation-news-txt/evaluation-news-txt\\\\news-06.txt'],\n",
       " 'es': ['evaluation-news-txt/evaluation-news-txt\\\\news-01.txt'],\n",
       " 'diz': ['evaluation-news-txt/evaluation-news-txt\\\\news-11.txt'],\n",
       " '12': ['evaluation-news-txt/evaluation-news-txt\\\\news-11.txt'],\n",
       " 'diss': ['evaluation-news-txt/evaluation-news-txt\\\\news-12.txt'],\n",
       " 'sazon': ['evaluation-news-txt/evaluation-news-txt\\\\news-03.txt',\n",
       "  'evaluation-news-txt/evaluation-news-txt\\\\news-10.txt'],\n",
       " 'us': ['evaluation-news-txt/evaluation-news-txt\\\\news-01.txt'],\n",
       " 'inclu': ['evaluation-news-txt/evaluation-news-txt\\\\news-12.txt'],\n",
       " 'doenc': ['evaluation-news-txt/evaluation-news-txt\\\\news-11.txt',\n",
       "  'evaluation-news-txt/evaluation-news-txt\\\\news-15.txt'],\n",
       " '17h00': ['evaluation-news-txt/evaluation-news-txt\\\\news-01.txt'],\n",
       " 'delegac': ['evaluation-news-txt/evaluation-news-txt\\\\news-12.txt'],\n",
       " 'maratimbacom': ['evaluation-news-txt/evaluation-news-txt\\\\news-01.txt'],\n",
       " 'wpema': ['evaluation-news-txt/evaluation-news-txt\\\\news-05.txt'],\n",
       " 'alem': ['evaluation-news-txt/evaluation-news-txt\\\\news-06.txt'],\n",
       " 'orig': ['evaluation-news-txt/evaluation-news-txt\\\\news-15.txt'],\n",
       " 'marc': ['evaluation-news-txt/evaluation-news-txt\\\\news-12.txt'],\n",
       " '23': ['evaluation-news-txt/evaluation-news-txt\\\\news-05.txt'],\n",
       " '6542%': ['evaluation-news-txt/evaluation-news-txt\\\\news-03.txt'],\n",
       " 'prefeit': ['evaluation-news-txt/evaluation-news-txt\\\\news-02.txt',\n",
       "  'evaluation-news-txt/evaluation-news-txt\\\\news-03.txt',\n",
       "  'evaluation-news-txt/evaluation-news-txt\\\\news-06.txt'],\n",
       " 'powered': ['evaluation-news-txt/evaluation-news-txt\\\\news-05.txt'],\n",
       " 'sul': ['evaluation-news-txt/evaluation-news-txt\\\\news-01.txt'],\n",
       " 'criaca': ['evaluation-news-txt/evaluation-news-txt\\\\news-09.txt'],\n",
       " 'prox': ['evaluation-news-txt/evaluation-news-txt\\\\news-07.txt'],\n",
       " 'milho': ['evaluation-news-txt/evaluation-news-txt\\\\news-08.txt',\n",
       "  'evaluation-news-txt/evaluation-news-txt\\\\news-08.txt'],\n",
       " 'identific': ['evaluation-news-txt/evaluation-news-txt\\\\news-11.txt'],\n",
       " 'cart': ['evaluation-news-txt/evaluation-news-txt\\\\news-13.txt'],\n",
       " 'ir': ['evaluation-news-txt/evaluation-news-txt\\\\news-10.txt'],\n",
       " 'est': ['evaluation-news-txt/evaluation-news-txt\\\\news-01.txt',\n",
       "  'evaluation-news-txt/evaluation-news-txt\\\\news-01.txt',\n",
       "  'evaluation-news-txt/evaluation-news-txt\\\\news-02.txt',\n",
       "  'evaluation-news-txt/evaluation-news-txt\\\\news-08.txt',\n",
       "  'evaluation-news-txt/evaluation-news-txt\\\\news-15.txt'],\n",
       " 'tv': ['evaluation-news-txt/evaluation-news-txt\\\\news-12.txt'],\n",
       " 'bh': ['evaluation-news-txt/evaluation-news-txt\\\\news-05.txt'],\n",
       " 'acontec': ['evaluation-news-txt/evaluation-news-txt\\\\news-01.txt'],\n",
       " 'h1n1': ['evaluation-news-txt/evaluation-news-txt\\\\news-04.txt',\n",
       "  'evaluation-news-txt/evaluation-news-txt\\\\news-06.txt',\n",
       "  'evaluation-news-txt/evaluation-news-txt\\\\news-07.txt',\n",
       "  'evaluation-news-txt/evaluation-news-txt\\\\news-15.txt'],\n",
       " '-': ['evaluation-news-txt/evaluation-news-txt\\\\news-02.txt',\n",
       "  'evaluation-news-txt/evaluation-news-txt\\\\news-03.txt',\n",
       "  'evaluation-news-txt/evaluation-news-txt\\\\news-09.txt',\n",
       "  'evaluation-news-txt/evaluation-news-txt\\\\news-10.txt',\n",
       "  'evaluation-news-txt/evaluation-news-txt\\\\news-12.txt'],\n",
       " 'ced': ['evaluation-news-txt/evaluation-news-txt\\\\news-13.txt'],\n",
       " 'aplic': ['evaluation-news-txt/evaluation-news-txt\\\\news-08.txt',\n",
       "  'evaluation-news-txt/evaluation-news-txt\\\\news-08.txt'],\n",
       " 'itapemirim': ['evaluation-news-txt/evaluation-news-txt\\\\news-01.txt'],\n",
       " 'pont': ['evaluation-news-txt/evaluation-news-txt\\\\news-13.txt'],\n",
       " 'grand': ['evaluation-news-txt/evaluation-news-txt\\\\news-07.txt',\n",
       "  'evaluation-news-txt/evaluation-news-txt\\\\news-09.txt'],\n",
       " 'complet': ['evaluation-news-txt/evaluation-news-txt\\\\news-01.txt'],\n",
       " 'regia': ['evaluation-news-txt/evaluation-news-txt\\\\news-01.txt'],\n",
       " '6': ['evaluation-news-txt/evaluation-news-txt\\\\news-14.txt'],\n",
       " 'outr': ['evaluation-news-txt/evaluation-news-txt\\\\news-04.txt'],\n",
       " 'municipi': ['evaluation-news-txt/evaluation-news-txt\\\\news-02.txt',\n",
       "  'evaluation-news-txt/evaluation-news-txt\\\\news-03.txt'],\n",
       " 'metapneumoviru': ['evaluation-news-txt/evaluation-news-txt\\\\news-11.txt'],\n",
       " 'sao': ['evaluation-news-txt/evaluation-news-txt\\\\news-09.txt',\n",
       "  'evaluation-news-txt/evaluation-news-txt\\\\news-14.txt'],\n",
       " 'recomend': ['evaluation-news-txt/evaluation-news-txt\\\\news-02.txt',\n",
       "  'evaluation-news-txt/evaluation-news-txt\\\\news-06.txt'],\n",
       " '25': ['evaluation-news-txt/evaluation-news-txt\\\\news-03.txt'],\n",
       " '(14)': ['evaluation-news-txt/evaluation-news-txt\\\\news-07.txt'],\n",
       " 'serr': ['evaluation-news-txt/evaluation-news-txt\\\\news-13.txt'],\n",
       " 'ja': ['evaluation-news-txt/evaluation-news-txt\\\\news-03.txt'],\n",
       " 'viral': ['evaluation-news-txt/evaluation-news-txt\\\\news-15.txt'],\n",
       " 'obje': ['evaluation-news-txt/evaluation-news-txt\\\\news-10.txt'],\n",
       " '(sesau)': ['evaluation-news-txt/evaluation-news-txt\\\\news-06.txt'],\n",
       " 'municip': ['evaluation-news-txt/evaluation-news-txt\\\\news-06.txt'],\n",
       " 'protocol': ['evaluation-news-txt/evaluation-news-txt\\\\news-06.txt',\n",
       "  'evaluation-news-txt/evaluation-news-txt\\\\news-06.txt'],\n",
       " 'presid': ['evaluation-news-txt/evaluation-news-txt\\\\news-12.txt'],\n",
       " 'greve?\"': ['evaluation-news-txt/evaluation-news-txt\\\\news-12.txt'],\n",
       " 'imuniz': ['evaluation-news-txt/evaluation-news-txt\\\\news-14.txt'],\n",
       " 'publico-alv': ['evaluation-news-txt/evaluation-news-txt\\\\news-10.txt'],\n",
       " 'brasil': ['evaluation-news-txt/evaluation-news-txt\\\\news-04.txt'],\n",
       " '11': ['evaluation-news-txt/evaluation-news-txt\\\\news-14.txt'],\n",
       " '29': ['evaluation-news-txt/evaluation-news-txt\\\\news-14.txt'],\n",
       " 'vacinaca': ['evaluation-news-txt/evaluation-news-txt\\\\news-01.txt',\n",
       "  'evaluation-news-txt/evaluation-news-txt\\\\news-02.txt',\n",
       "  'evaluation-news-txt/evaluation-news-txt\\\\news-03.txt',\n",
       "  'evaluation-news-txt/evaluation-news-txt\\\\news-05.txt',\n",
       "  'evaluation-news-txt/evaluation-news-txt\\\\news-06.txt',\n",
       "  'evaluation-news-txt/evaluation-news-txt\\\\news-07.txt',\n",
       "  'evaluation-news-txt/evaluation-news-txt\\\\news-13.txt',\n",
       "  'evaluation-news-txt/evaluation-news-txt\\\\news-14.txt'],\n",
       " 'entr': ['evaluation-news-txt/evaluation-news-txt\\\\news-08.txt'],\n",
       " 'tamb': ['evaluation-news-txt/evaluation-news-txt\\\\news-06.txt',\n",
       "  'evaluation-news-txt/evaluation-news-txt\\\\news-11.txt',\n",
       "  'evaluation-news-txt/evaluation-news-txt\\\\news-12.txt'],\n",
       " '(puket)': ['evaluation-news-txt/evaluation-news-txt\\\\news-15.txt'],\n",
       " 'viru': ['evaluation-news-txt/evaluation-news-txt\\\\news-04.txt',\n",
       "  'evaluation-news-txt/evaluation-news-txt\\\\news-09.txt',\n",
       "  'evaluation-news-txt/evaluation-news-txt\\\\news-11.txt',\n",
       "  'evaluation-news-txt/evaluation-news-txt\\\\news-14.txt',\n",
       "  'evaluation-news-txt/evaluation-news-txt\\\\news-15.txt',\n",
       "  'evaluation-news-txt/evaluation-news-txt\\\\news-15.txt',\n",
       "  'evaluation-news-txt/evaluation-news-txt\\\\news-15.txt']}"
      ]
     },
     "execution_count": 43,
     "metadata": {},
     "output_type": "execute_result"
    }
   ],
   "source": [
    "indice"
   ]
  },
  {
   "cell_type": "code",
   "execution_count": 10,
   "metadata": {
    "collapsed": true
   },
   "outputs": [],
   "source": [
    "def busca(termo):\n",
    "    #print ('Busca por ' + termo + ':')\n",
    "    termo=normaliza(termo)\n",
    "    if termo in indice.keys():\n",
    "        return indice[termo]"
   ]
  },
  {
   "cell_type": "code",
   "execution_count": 57,
   "metadata": {
    "collapsed": false
   },
   "outputs": [],
   "source": [
    "def buscaN(termos):\n",
    "    #termos=normaliza(termos)\n",
    "    #print ('Busca por ' + termos + ':')\n",
    "    retorno=[]\n",
    "    for termo in termos.split():\n",
    "        b=busca(termo)\n",
    "        if (b):\n",
    "            retorno+=b\n",
    "\n",
    "    retorno.sort()\n",
    "    return retorno"
   ]
  },
  {
   "cell_type": "code",
   "execution_count": 12,
   "metadata": {
    "collapsed": false
   },
   "outputs": [
    {
     "name": "stdout",
     "output_type": "stream",
     "text": [
      "[nltk_data] Downloading package rslp to\n",
      "[nltk_data]     C:\\Users\\Rafael\\AppData\\Roaming\\nltk_data...\n",
      "[nltk_data]   Unzipping stemmers\\rslp.zip.\n"
     ]
    }
   ],
   "source": [
    "nltk.download('rslp')\n",
    "stemmer = nltk.stem.RSLPStemmer()"
   ]
  },
  {
   "cell_type": "code",
   "execution_count": 13,
   "metadata": {
    "collapsed": true
   },
   "outputs": [],
   "source": [
    "stops={'de','a','o','que','e','do','da','em','um','para','é','com','não','uma','os','no','se','na','por','mais','as','dos','como','mas','foi','ao','ele','das','tem','à','seu','sua','ou','ser','quando','muito','há','nos','já','está','eu','também','só','pelo','pela','até','isso','ela','entre','era','depois','sem','mesmo','aos','ter','seus','quem','nas','me','esse','eles','estão','você','tinha','foram','essa','num','nem','suas','meu','às','minha','têm','numa','pelos','elas','havia','seja','qual','será','nós','tenho','lhe','deles','essas','esses','pelas','este','fosse','dele','tu','te','vocês','vos','lhes','meus','minhas','teu','tua','teus','tuas','nosso','nossa','nossos','nossas','dela','delas','esta','estes','estas','aquele','aquela','aqueles','aquelas','isto','aquilo','estou','está','estamos','estão','estive','esteve','estivemos','estiveram','estava','estávamos','estavam','estivera','estivéramos','esteja','estejamos','estejam','estivesse','estivéssemos','estivessem','estiver','estivermos','estiverem','hei','há','havemos','hão','houve','houvemos','houveram','houvera','houvéramos','haja','hajamos','hajam','houvesse','houvéssemos','houvessem','houver','houvermos','houverem','houverei','houverá','houveremos','houverão','houveria','houveríamos','houveriam','sou','somos','são','era','éramos','eram','fui','foi','fomos','foram','fora','fôramos','seja','sejamos','sejam','fosse','fôssemos','fossem','for','formos','forem','serei','será','seremos','serão','seria','seríamos','seriam','tenho','tem','temos','tém','tinha','tínhamos','tinham','tive','teve','tivemos','tiveram','tivera','tivéramos','tenha','tenhamos','tenham','tivesse','tivéssemos','tivessem','tiver','tivermos','tiverem','terei','terá','teremos','terão','teria','teríamos','teriam'}"
   ]
  },
  {
   "cell_type": "code",
   "execution_count": 14,
   "metadata": {
    "collapsed": true
   },
   "outputs": [],
   "source": [
    "#main\n",
    "dados = {}\n",
    "pasta = 'evaluation-news-txt/'\n",
    "for dirpath, dirnames, filenames in os.walk(pasta):\n",
    "    for filename in [f for f in filenames if f.endswith(\".txt\")]:\n",
    "        arquivo = os.path.join(dirpath, filename)\n",
    "        insereDados(arquivo)\n"
   ]
  },
  {
   "cell_type": "code",
   "execution_count": 58,
   "metadata": {
    "collapsed": false
   },
   "outputs": [
    {
     "name": "stdout",
     "output_type": "stream",
     "text": [
      "['evaluation-news-txt/evaluation-news-txt\\\\news-02.txt', 'evaluation-news-txt/evaluation-news-txt\\\\news-03.txt', 'evaluation-news-txt/evaluation-news-txt\\\\news-06.txt']\n"
     ]
    }
   ],
   "source": [
    "print (buscaN('Prefeitura legislacao'))"
   ]
  },
  {
   "cell_type": "code",
   "execution_count": 59,
   "metadata": {
    "collapsed": false
   },
   "outputs": [
    {
     "data": {
      "text/plain": [
       "['evaluation-news-txt/evaluation-news-txt\\\\news-01.txt',\n",
       " 'evaluation-news-txt/evaluation-news-txt\\\\news-01.txt',\n",
       " 'evaluation-news-txt/evaluation-news-txt\\\\news-02.txt',\n",
       " 'evaluation-news-txt/evaluation-news-txt\\\\news-02.txt',\n",
       " 'evaluation-news-txt/evaluation-news-txt\\\\news-03.txt',\n",
       " 'evaluation-news-txt/evaluation-news-txt\\\\news-03.txt',\n",
       " 'evaluation-news-txt/evaluation-news-txt\\\\news-03.txt',\n",
       " 'evaluation-news-txt/evaluation-news-txt\\\\news-04.txt',\n",
       " 'evaluation-news-txt/evaluation-news-txt\\\\news-04.txt',\n",
       " 'evaluation-news-txt/evaluation-news-txt\\\\news-05.txt',\n",
       " 'evaluation-news-txt/evaluation-news-txt\\\\news-05.txt',\n",
       " 'evaluation-news-txt/evaluation-news-txt\\\\news-07.txt',\n",
       " 'evaluation-news-txt/evaluation-news-txt\\\\news-08.txt',\n",
       " 'evaluation-news-txt/evaluation-news-txt\\\\news-08.txt',\n",
       " 'evaluation-news-txt/evaluation-news-txt\\\\news-08.txt',\n",
       " 'evaluation-news-txt/evaluation-news-txt\\\\news-08.txt',\n",
       " 'evaluation-news-txt/evaluation-news-txt\\\\news-08.txt',\n",
       " 'evaluation-news-txt/evaluation-news-txt\\\\news-09.txt',\n",
       " 'evaluation-news-txt/evaluation-news-txt\\\\news-09.txt',\n",
       " 'evaluation-news-txt/evaluation-news-txt\\\\news-09.txt',\n",
       " 'evaluation-news-txt/evaluation-news-txt\\\\news-10.txt',\n",
       " 'evaluation-news-txt/evaluation-news-txt\\\\news-10.txt',\n",
       " 'evaluation-news-txt/evaluation-news-txt\\\\news-10.txt',\n",
       " 'evaluation-news-txt/evaluation-news-txt\\\\news-13.txt',\n",
       " 'evaluation-news-txt/evaluation-news-txt\\\\news-13.txt',\n",
       " 'evaluation-news-txt/evaluation-news-txt\\\\news-13.txt',\n",
       " 'evaluation-news-txt/evaluation-news-txt\\\\news-14.txt',\n",
       " 'evaluation-news-txt/evaluation-news-txt\\\\news-14.txt',\n",
       " 'evaluation-news-txt/evaluation-news-txt\\\\news-14.txt',\n",
       " 'evaluation-news-txt/evaluation-news-txt\\\\news-15.txt',\n",
       " 'evaluation-news-txt/evaluation-news-txt\\\\news-15.txt',\n",
       " 'evaluation-news-txt/evaluation-news-txt\\\\news-15.txt']"
      ]
     },
     "execution_count": 59,
     "metadata": {},
     "output_type": "execute_result"
    }
   ],
   "source": [
    "buscaN('vacina contra a gripe')"
   ]
  },
  {
   "cell_type": "code",
   "execution_count": 60,
   "metadata": {
    "collapsed": false
   },
   "outputs": [
    {
     "data": {
      "text/plain": [
       "['evaluation-news-txt/evaluation-news-txt\\\\news-02.txt',\n",
       " 'evaluation-news-txt/evaluation-news-txt\\\\news-03.txt']"
      ]
     },
     "execution_count": 60,
     "metadata": {},
     "output_type": "execute_result"
    }
   ],
   "source": [
    "busca('municipios')"
   ]
  },
  {
   "cell_type": "code",
   "execution_count": 18,
   "metadata": {
    "collapsed": false
   },
   "outputs": [
    {
     "data": {
      "text/plain": [
       "['evaluation-news-txt/evaluation-news-txt\\\\news-03.txt',\n",
       " 'evaluation-news-txt/evaluation-news-txt\\\\news-02.txt']"
      ]
     },
     "execution_count": 18,
     "metadata": {},
     "output_type": "execute_result"
    }
   ],
   "source": [
    "busca('municipio')"
   ]
  },
  {
   "cell_type": "code",
   "execution_count": 19,
   "metadata": {
    "collapsed": false
   },
   "outputs": [
    {
     "data": {
      "text/plain": [
       "['evaluation-news-txt/evaluation-news-txt\\\\news-03.txt',\n",
       " 'evaluation-news-txt/evaluation-news-txt\\\\news-06.txt',\n",
       " 'evaluation-news-txt/evaluation-news-txt\\\\news-02.txt']"
      ]
     },
     "execution_count": 19,
     "metadata": {},
     "output_type": "execute_result"
    }
   ],
   "source": [
    "busca('Prefeitura')"
   ]
  },
  {
   "cell_type": "code",
   "execution_count": 20,
   "metadata": {
    "collapsed": false
   },
   "outputs": [
    {
     "data": {
      "text/plain": [
       "['evaluation-news-txt/evaluation-news-txt\\\\news-03.txt',\n",
       " 'evaluation-news-txt/evaluation-news-txt\\\\news-06.txt',\n",
       " 'evaluation-news-txt/evaluation-news-txt\\\\news-02.txt']"
      ]
     },
     "execution_count": 20,
     "metadata": {},
     "output_type": "execute_result"
    }
   ],
   "source": [
    "busca('Prefeito')"
   ]
  },
  {
   "cell_type": "code",
   "execution_count": 25,
   "metadata": {
    "collapsed": false
   },
   "outputs": [
    {
     "data": {
      "text/plain": [
       "'procuraca'"
      ]
     },
     "execution_count": 25,
     "metadata": {},
     "output_type": "execute_result"
    }
   ],
   "source": [
    "stemmer.stem('procuracao')"
   ]
  },
  {
   "cell_type": "code",
   "execution_count": 29,
   "metadata": {
    "collapsed": false
   },
   "outputs": [],
   "source": [
    "x=[\"a\",\"b\", \"d\", \"c\"]"
   ]
  },
  {
   "cell_type": "code",
   "execution_count": 30,
   "metadata": {
    "collapsed": false
   },
   "outputs": [
    {
     "data": {
      "text/plain": [
       "['a', 'b', 'd', 'c']"
      ]
     },
     "execution_count": 30,
     "metadata": {},
     "output_type": "execute_result"
    }
   ],
   "source": [
    "x"
   ]
  },
  {
   "cell_type": "code",
   "execution_count": 31,
   "metadata": {
    "collapsed": true
   },
   "outputs": [],
   "source": [
    "x.sort()"
   ]
  },
  {
   "cell_type": "code",
   "execution_count": 32,
   "metadata": {
    "collapsed": false
   },
   "outputs": [
    {
     "data": {
      "text/plain": [
       "['a', 'b', 'c', 'd']"
      ]
     },
     "execution_count": 32,
     "metadata": {},
     "output_type": "execute_result"
    }
   ],
   "source": [
    "x"
   ]
  },
  {
   "cell_type": "code",
   "execution_count": null,
   "metadata": {
    "collapsed": true
   },
   "outputs": [],
   "source": []
  }
 ],
 "metadata": {
  "kernelspec": {
   "display_name": "Python [default]",
   "language": "python",
   "name": "python3"
  },
  "language_info": {
   "codemirror_mode": {
    "name": "ipython",
    "version": 3
   },
   "file_extension": ".py",
   "mimetype": "text/x-python",
   "name": "python",
   "nbconvert_exporter": "python",
   "pygments_lexer": "ipython3",
   "version": "3.5.2"
  }
 },
 "nbformat": 4,
 "nbformat_minor": 2
}
